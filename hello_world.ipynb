{
 "cells": [
  {
   "cell_type": "markdown",
   "metadata": {},
   "source": [
    "# What is Azure Notebooks?\n",
    "\n",
    "Azure Notebooks is a free service for anyone to develop and run code in their browser using [Jupyter](http://jupyter.org/). Jupyter is a notebook environment that requires no setup to use. It allows you to create and share documents that contain\n",
    "\n",
    "* Live, runnable code\n",
    "* Visualizations\n",
    "* Explanatory text\n",
    "\n",
    "It's also a great tool for prototyping and quick development. Let's give it a try. "
   ]
  },
  {
   "cell_type": "markdown",
   "metadata": {},
   "source": [
    "Run the following so-called *(Code) Cell* by moving the cursor into it, and either\n",
    "\n",
    "* Pressing the \"play\" icon on the left of the cell, or\n",
    "* Hitting **`Shift + Enter`** or **`Ctrl + Enter`**."
   ]
  },
  {
   "cell_type": "code",
   "execution_count": 13,
   "metadata": {},
   "outputs": [
    {
     "name": "stdout",
     "output_type": "stream",
     "text": [
      "Hello, World!\n"
     ]
    }
   ],
   "source": [
    "print('Hello, World!')"
   ]
  },
  {
   "cell_type": "markdown",
   "metadata": {},
   "source": [
    "You should see the `Hello, World!` printed under the code."
   ]
  },
  {
   "cell_type": "markdown",
   "metadata": {},
   "source": [
    "Code is executed in a virtual machine dedicated to your account, with the results sent back to your browser. This has some positive and negative consequences:\n",
    "* you don't need to install any standard Python libraries, e.g. for manipulating numerical data.\n",
    "* you can run some advanced code even on your oldest Mac ;)\n",
    "* but, sometimes you might lose connection, in which case you will have to **rerun** your code..."
   ]
  },
  {
   "cell_type": "markdown",
   "metadata": {},
   "source": [
    "### Shortcuts \n",
    "\n",
    "The 4 most useful Jupyter notebook shortcuts are:\n",
    "\n",
    "**Command Mode** (press `Esc` to enable)\n",
    "\n",
    "* `Enter` enter edit mode.\n",
    "* `Ctrl+Enter` run cell.\n",
    "* `Y` to code.\n",
    "* `M` to markdown.\n",
    "* `A/B` insert cell above/below.\n",
    "* `D+D` delete cell.\n",
    "\n",
    "**Edit Mode** (press `Enter` to enable)\n",
    "\n",
    "* `Esc` command mode.\n",
    "* `Ctrl+Enter` run cell.\n",
    "* `Ctrl-Z` undo.\n",
    "* `Ctrl-Y` redo."
   ]
  },
  {
   "cell_type": "markdown",
   "metadata": {},
   "source": [
    "## Basic Python"
   ]
  },
  {
   "cell_type": "markdown",
   "metadata": {},
   "source": [
    "### Python as a calculator"
   ]
  },
  {
   "cell_type": "code",
   "execution_count": null,
   "metadata": {},
   "outputs": [],
   "source": []
  },
  {
   "cell_type": "markdown",
   "metadata": {},
   "source": [
    "### Basic data structures"
   ]
  },
  {
   "cell_type": "markdown",
   "metadata": {},
   "source": [
    "You don’t need to specify variable types. Types are **evaluated** at runtime. You can check what they are using type(var)."
   ]
  },
  {
   "cell_type": "code",
   "execution_count": null,
   "metadata": {},
   "outputs": [],
   "source": []
  }
 ],
 "metadata": {
  "kernelspec": {
   "display_name": "Python 3",
   "language": "python",
   "name": "python3"
  },
  "language_info": {
   "codemirror_mode": {
    "name": "ipython",
    "version": 3
   },
   "file_extension": ".py",
   "mimetype": "text/x-python",
   "name": "python",
   "nbconvert_exporter": "python",
   "pygments_lexer": "ipython3",
   "version": "3.6.5"
  }
 },
 "nbformat": 4,
 "nbformat_minor": 2
}
